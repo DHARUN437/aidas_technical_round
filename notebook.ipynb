{
 "cells": [
  {
   "cell_type": "code",
   "execution_count": 11,
   "metadata": {},
   "outputs": [
    {
     "name": "stdout",
     "output_type": "stream",
     "text": [
      "Collecting openpyxl\n",
      "  Downloading openpyxl-3.1.5-py2.py3-none-any.whl.metadata (2.5 kB)\n",
      "Collecting et-xmlfile (from openpyxl)\n",
      "  Downloading et_xmlfile-2.0.0-py3-none-any.whl.metadata (2.7 kB)\n",
      "Downloading openpyxl-3.1.5-py2.py3-none-any.whl (250 kB)\n",
      "   ---------------------------------------- 0.0/250.9 kB ? eta -:--:--\n",
      "   ---------------------------------------- 0.0/250.9 kB ? eta -:--:--\n",
      "   - -------------------------------------- 10.2/250.9 kB ? eta -:--:--\n",
      "   ---- ---------------------------------- 30.7/250.9 kB 262.6 kB/s eta 0:00:01\n",
      "   -------------- ------------------------ 92.2/250.9 kB 581.0 kB/s eta 0:00:01\n",
      "   ---------------------------------------  245.8/250.9 kB 1.4 MB/s eta 0:00:01\n",
      "   ---------------------------------------  245.8/250.9 kB 1.4 MB/s eta 0:00:01\n",
      "   ---------------------------------------  245.8/250.9 kB 1.4 MB/s eta 0:00:01\n",
      "   -------------------------------------- 250.9/250.9 kB 810.3 kB/s eta 0:00:00\n",
      "Downloading et_xmlfile-2.0.0-py3-none-any.whl (18 kB)\n",
      "Installing collected packages: et-xmlfile, openpyxl\n",
      "Successfully installed et-xmlfile-2.0.0 openpyxl-3.1.5\n",
      "Note: you may need to restart the kernel to use updated packages.\n"
     ]
    },
    {
     "name": "stderr",
     "output_type": "stream",
     "text": [
      "\n",
      "[notice] A new release of pip is available: 24.0 -> 25.0.1\n",
      "[notice] To update, run: python.exe -m pip install --upgrade pip\n"
     ]
    }
   ],
   "source": [
    "pip install openpyxl"
   ]
  },
  {
   "cell_type": "code",
   "execution_count": 2,
   "metadata": {},
   "outputs": [],
   "source": [
    "import pandas as pd"
   ]
  },
  {
   "cell_type": "code",
   "execution_count": 3,
   "metadata": {},
   "outputs": [],
   "source": [
    "df = pd.read_excel('sales_data.xlsx')"
   ]
  },
  {
   "cell_type": "code",
   "execution_count": 39,
   "metadata": {},
   "outputs": [
    {
     "data": {
      "text/html": [
       "<div>\n",
       "<style scoped>\n",
       "    .dataframe tbody tr th:only-of-type {\n",
       "        vertical-align: middle;\n",
       "    }\n",
       "\n",
       "    .dataframe tbody tr th {\n",
       "        vertical-align: top;\n",
       "    }\n",
       "\n",
       "    .dataframe thead th {\n",
       "        text-align: right;\n",
       "    }\n",
       "</style>\n",
       "<table border=\"1\" class=\"dataframe\">\n",
       "  <thead>\n",
       "    <tr style=\"text-align: right;\">\n",
       "      <th></th>\n",
       "      <th>Order ID</th>\n",
       "      <th>Order Line No</th>\n",
       "      <th>Date Shipped</th>\n",
       "      <th>Item ID</th>\n",
       "      <th>Qty Ordered</th>\n",
       "      <th>Line Status</th>\n",
       "      <th>Order Date</th>\n",
       "      <th>Due Date</th>\n",
       "      <th>Customer ID</th>\n",
       "      <th>Qty Shipped</th>\n",
       "      <th>UM</th>\n",
       "      <th>Qty Returned</th>\n",
       "      <th>Shipment ID</th>\n",
       "      <th>Unit Price</th>\n",
       "      <th>Total Price</th>\n",
       "      <th>Qty Invoiced</th>\n",
       "      <th>Ship Warehouse</th>\n",
       "      <th>Ship To</th>\n",
       "      <th>Order Release Date</th>\n",
       "      <th>Ship Code</th>\n",
       "    </tr>\n",
       "  </thead>\n",
       "  <tbody>\n",
       "    <tr>\n",
       "      <th>0</th>\n",
       "      <td>A0001</td>\n",
       "      <td>1</td>\n",
       "      <td>2024-01-08</td>\n",
       "      <td>I0001</td>\n",
       "      <td>5</td>\n",
       "      <td>Complete</td>\n",
       "      <td>2023-11-29</td>\n",
       "      <td>2023-11-29</td>\n",
       "      <td>10337</td>\n",
       "      <td>5.0</td>\n",
       "      <td>C5</td>\n",
       "      <td>0</td>\n",
       "      <td>SH0001</td>\n",
       "      <td>35.65</td>\n",
       "      <td>178.25</td>\n",
       "      <td>5.0</td>\n",
       "      <td>LPI</td>\n",
       "      <td>1</td>\n",
       "      <td>2023-11-29 08:15:34.917</td>\n",
       "      <td>DVBL</td>\n",
       "    </tr>\n",
       "    <tr>\n",
       "      <th>1</th>\n",
       "      <td>A0002</td>\n",
       "      <td>9</td>\n",
       "      <td>2024-01-08</td>\n",
       "      <td>I0002</td>\n",
       "      <td>4</td>\n",
       "      <td>Complete</td>\n",
       "      <td>2023-12-05</td>\n",
       "      <td>2023-12-05</td>\n",
       "      <td>10337</td>\n",
       "      <td>4.0</td>\n",
       "      <td>C5</td>\n",
       "      <td>0</td>\n",
       "      <td>SH0002</td>\n",
       "      <td>158.10</td>\n",
       "      <td>632.40</td>\n",
       "      <td>4.0</td>\n",
       "      <td>LPI</td>\n",
       "      <td>1</td>\n",
       "      <td>2023-12-05 08:16:13.473</td>\n",
       "      <td>DVBL</td>\n",
       "    </tr>\n",
       "    <tr>\n",
       "      <th>2</th>\n",
       "      <td>A0003</td>\n",
       "      <td>3</td>\n",
       "      <td>2024-01-11</td>\n",
       "      <td>I0003</td>\n",
       "      <td>20</td>\n",
       "      <td>Complete</td>\n",
       "      <td>2023-12-13</td>\n",
       "      <td>2023-12-13</td>\n",
       "      <td>10352</td>\n",
       "      <td>20.0</td>\n",
       "      <td>C5</td>\n",
       "      <td>0</td>\n",
       "      <td>SH0003</td>\n",
       "      <td>87.85</td>\n",
       "      <td>1757.00</td>\n",
       "      <td>20.0</td>\n",
       "      <td>LPI</td>\n",
       "      <td>1</td>\n",
       "      <td>2023-12-13 08:15:14.177</td>\n",
       "      <td>FMDO</td>\n",
       "    </tr>\n",
       "    <tr>\n",
       "      <th>3</th>\n",
       "      <td>A0004</td>\n",
       "      <td>7</td>\n",
       "      <td>2024-01-11</td>\n",
       "      <td>I0002</td>\n",
       "      <td>10</td>\n",
       "      <td>Complete</td>\n",
       "      <td>2023-12-13</td>\n",
       "      <td>2023-12-13</td>\n",
       "      <td>10343</td>\n",
       "      <td>10.0</td>\n",
       "      <td>C5</td>\n",
       "      <td>0</td>\n",
       "      <td>SH0004</td>\n",
       "      <td>158.10</td>\n",
       "      <td>1581.00</td>\n",
       "      <td>10.0</td>\n",
       "      <td>LPI</td>\n",
       "      <td>1</td>\n",
       "      <td>2023-12-13 08:15:14.417</td>\n",
       "      <td>FMDO</td>\n",
       "    </tr>\n",
       "    <tr>\n",
       "      <th>4</th>\n",
       "      <td>A0004</td>\n",
       "      <td>8</td>\n",
       "      <td>2024-01-10</td>\n",
       "      <td>I0004</td>\n",
       "      <td>3</td>\n",
       "      <td>Complete</td>\n",
       "      <td>2023-12-13</td>\n",
       "      <td>2023-12-13</td>\n",
       "      <td>10343</td>\n",
       "      <td>3.0</td>\n",
       "      <td>C12</td>\n",
       "      <td>0</td>\n",
       "      <td>SH0005</td>\n",
       "      <td>302.04</td>\n",
       "      <td>906.12</td>\n",
       "      <td>3.0</td>\n",
       "      <td>LPI</td>\n",
       "      <td>1</td>\n",
       "      <td>2023-12-13 08:15:14.423</td>\n",
       "      <td>FMDO</td>\n",
       "    </tr>\n",
       "  </tbody>\n",
       "</table>\n",
       "</div>"
      ],
      "text/plain": [
       "  Order ID  Order Line No Date Shipped Item ID  Qty Ordered Line Status  \\\n",
       "0    A0001              1   2024-01-08   I0001            5    Complete   \n",
       "1    A0002              9   2024-01-08   I0002            4    Complete   \n",
       "2    A0003              3   2024-01-11   I0003           20    Complete   \n",
       "3    A0004              7   2024-01-11   I0002           10    Complete   \n",
       "4    A0004              8   2024-01-10   I0004            3    Complete   \n",
       "\n",
       "  Order Date   Due Date  Customer ID  Qty Shipped   UM  Qty Returned  \\\n",
       "0 2023-11-29 2023-11-29        10337          5.0   C5             0   \n",
       "1 2023-12-05 2023-12-05        10337          4.0   C5             0   \n",
       "2 2023-12-13 2023-12-13        10352         20.0   C5             0   \n",
       "3 2023-12-13 2023-12-13        10343         10.0   C5             0   \n",
       "4 2023-12-13 2023-12-13        10343          3.0  C12             0   \n",
       "\n",
       "  Shipment ID  Unit Price  Total Price  Qty Invoiced Ship Warehouse  Ship To  \\\n",
       "0      SH0001       35.65       178.25           5.0            LPI        1   \n",
       "1      SH0002      158.10       632.40           4.0            LPI        1   \n",
       "2      SH0003       87.85      1757.00          20.0            LPI        1   \n",
       "3      SH0004      158.10      1581.00          10.0            LPI        1   \n",
       "4      SH0005      302.04       906.12           3.0            LPI        1   \n",
       "\n",
       "       Order Release Date Ship Code  \n",
       "0 2023-11-29 08:15:34.917      DVBL  \n",
       "1 2023-12-05 08:16:13.473      DVBL  \n",
       "2 2023-12-13 08:15:14.177      FMDO  \n",
       "3 2023-12-13 08:15:14.417      FMDO  \n",
       "4 2023-12-13 08:15:14.423      FMDO  "
      ]
     },
     "execution_count": 39,
     "metadata": {},
     "output_type": "execute_result"
    }
   ],
   "source": [
    "df.head()"
   ]
  },
  {
   "cell_type": "code",
   "execution_count": 40,
   "metadata": {},
   "outputs": [
    {
     "data": {
      "text/html": [
       "<div>\n",
       "<style scoped>\n",
       "    .dataframe tbody tr th:only-of-type {\n",
       "        vertical-align: middle;\n",
       "    }\n",
       "\n",
       "    .dataframe tbody tr th {\n",
       "        vertical-align: top;\n",
       "    }\n",
       "\n",
       "    .dataframe thead th {\n",
       "        text-align: right;\n",
       "    }\n",
       "</style>\n",
       "<table border=\"1\" class=\"dataframe\">\n",
       "  <thead>\n",
       "    <tr style=\"text-align: right;\">\n",
       "      <th></th>\n",
       "      <th>Order ID</th>\n",
       "      <th>Order Line No</th>\n",
       "      <th>Date Shipped</th>\n",
       "      <th>Item ID</th>\n",
       "      <th>Qty Ordered</th>\n",
       "      <th>Line Status</th>\n",
       "      <th>Order Date</th>\n",
       "      <th>Due Date</th>\n",
       "      <th>Customer ID</th>\n",
       "      <th>Qty Shipped</th>\n",
       "      <th>UM</th>\n",
       "      <th>Qty Returned</th>\n",
       "      <th>Shipment ID</th>\n",
       "      <th>Unit Price</th>\n",
       "      <th>Total Price</th>\n",
       "      <th>Qty Invoiced</th>\n",
       "      <th>Ship Warehouse</th>\n",
       "      <th>Ship To</th>\n",
       "      <th>Order Release Date</th>\n",
       "      <th>Ship Code</th>\n",
       "    </tr>\n",
       "  </thead>\n",
       "  <tbody>\n",
       "    <tr>\n",
       "      <th>23291</th>\n",
       "      <td>A12870</td>\n",
       "      <td>1</td>\n",
       "      <td>2024-12-31</td>\n",
       "      <td>I0026</td>\n",
       "      <td>20</td>\n",
       "      <td>Complete</td>\n",
       "      <td>2024-12-31</td>\n",
       "      <td>2024-12-31</td>\n",
       "      <td>12594</td>\n",
       "      <td>20.0</td>\n",
       "      <td>C5</td>\n",
       "      <td>0</td>\n",
       "      <td>SH22444</td>\n",
       "      <td>30.40</td>\n",
       "      <td>608.00</td>\n",
       "      <td>20.0</td>\n",
       "      <td>LPI</td>\n",
       "      <td>1</td>\n",
       "      <td>NaT</td>\n",
       "      <td>OWPD</td>\n",
       "    </tr>\n",
       "    <tr>\n",
       "      <th>23292</th>\n",
       "      <td>A12871</td>\n",
       "      <td>3</td>\n",
       "      <td>2024-12-31</td>\n",
       "      <td>I0092</td>\n",
       "      <td>10</td>\n",
       "      <td>Complete</td>\n",
       "      <td>2024-12-31</td>\n",
       "      <td>2024-12-31</td>\n",
       "      <td>11264</td>\n",
       "      <td>10.0</td>\n",
       "      <td>C10</td>\n",
       "      <td>0</td>\n",
       "      <td>SH22445</td>\n",
       "      <td>129.60</td>\n",
       "      <td>1296.00</td>\n",
       "      <td>10.0</td>\n",
       "      <td>DWN</td>\n",
       "      <td>1</td>\n",
       "      <td>NaT</td>\n",
       "      <td>OWPD</td>\n",
       "    </tr>\n",
       "    <tr>\n",
       "      <th>23293</th>\n",
       "      <td>A12872</td>\n",
       "      <td>1</td>\n",
       "      <td>2024-12-31</td>\n",
       "      <td>I0026</td>\n",
       "      <td>25</td>\n",
       "      <td>Complete</td>\n",
       "      <td>2024-12-31</td>\n",
       "      <td>2024-12-31</td>\n",
       "      <td>12025</td>\n",
       "      <td>25.0</td>\n",
       "      <td>C5</td>\n",
       "      <td>0</td>\n",
       "      <td>SH22446</td>\n",
       "      <td>25.75</td>\n",
       "      <td>643.75</td>\n",
       "      <td>25.0</td>\n",
       "      <td>LPI</td>\n",
       "      <td>1</td>\n",
       "      <td>NaT</td>\n",
       "      <td>OWPD</td>\n",
       "    </tr>\n",
       "    <tr>\n",
       "      <th>23294</th>\n",
       "      <td>A12873</td>\n",
       "      <td>1</td>\n",
       "      <td>2024-12-31</td>\n",
       "      <td>I0026</td>\n",
       "      <td>50</td>\n",
       "      <td>Complete</td>\n",
       "      <td>2024-12-31</td>\n",
       "      <td>2024-12-31</td>\n",
       "      <td>11424</td>\n",
       "      <td>44.0</td>\n",
       "      <td>C5</td>\n",
       "      <td>0</td>\n",
       "      <td>SH22447</td>\n",
       "      <td>27.85</td>\n",
       "      <td>1225.40</td>\n",
       "      <td>44.0</td>\n",
       "      <td>MSL</td>\n",
       "      <td>1</td>\n",
       "      <td>NaT</td>\n",
       "      <td>OWPD</td>\n",
       "    </tr>\n",
       "    <tr>\n",
       "      <th>23295</th>\n",
       "      <td>A12873</td>\n",
       "      <td>1</td>\n",
       "      <td>2024-12-31</td>\n",
       "      <td>I0026</td>\n",
       "      <td>50</td>\n",
       "      <td>Complete</td>\n",
       "      <td>2024-12-31</td>\n",
       "      <td>2024-12-31</td>\n",
       "      <td>11424</td>\n",
       "      <td>6.0</td>\n",
       "      <td>C5</td>\n",
       "      <td>0</td>\n",
       "      <td>SH22447</td>\n",
       "      <td>27.85</td>\n",
       "      <td>167.10</td>\n",
       "      <td>6.0</td>\n",
       "      <td>MSL</td>\n",
       "      <td>1</td>\n",
       "      <td>NaT</td>\n",
       "      <td>OWPD</td>\n",
       "    </tr>\n",
       "  </tbody>\n",
       "</table>\n",
       "</div>"
      ],
      "text/plain": [
       "      Order ID  Order Line No Date Shipped Item ID  Qty Ordered Line Status  \\\n",
       "23291   A12870              1   2024-12-31   I0026           20    Complete   \n",
       "23292   A12871              3   2024-12-31   I0092           10    Complete   \n",
       "23293   A12872              1   2024-12-31   I0026           25    Complete   \n",
       "23294   A12873              1   2024-12-31   I0026           50    Complete   \n",
       "23295   A12873              1   2024-12-31   I0026           50    Complete   \n",
       "\n",
       "      Order Date   Due Date  Customer ID  Qty Shipped   UM  Qty Returned  \\\n",
       "23291 2024-12-31 2024-12-31        12594         20.0   C5             0   \n",
       "23292 2024-12-31 2024-12-31        11264         10.0  C10             0   \n",
       "23293 2024-12-31 2024-12-31        12025         25.0   C5             0   \n",
       "23294 2024-12-31 2024-12-31        11424         44.0   C5             0   \n",
       "23295 2024-12-31 2024-12-31        11424          6.0   C5             0   \n",
       "\n",
       "      Shipment ID  Unit Price  Total Price  Qty Invoiced Ship Warehouse  \\\n",
       "23291     SH22444       30.40       608.00          20.0            LPI   \n",
       "23292     SH22445      129.60      1296.00          10.0            DWN   \n",
       "23293     SH22446       25.75       643.75          25.0            LPI   \n",
       "23294     SH22447       27.85      1225.40          44.0            MSL   \n",
       "23295     SH22447       27.85       167.10           6.0            MSL   \n",
       "\n",
       "       Ship To Order Release Date Ship Code  \n",
       "23291        1                NaT      OWPD  \n",
       "23292        1                NaT      OWPD  \n",
       "23293        1                NaT      OWPD  \n",
       "23294        1                NaT      OWPD  \n",
       "23295        1                NaT      OWPD  "
      ]
     },
     "execution_count": 40,
     "metadata": {},
     "output_type": "execute_result"
    }
   ],
   "source": [
    "df.tail()"
   ]
  },
  {
   "cell_type": "code",
   "execution_count": 41,
   "metadata": {},
   "outputs": [
    {
     "data": {
      "text/plain": [
       "Order ID                  0\n",
       "Order Line No             0\n",
       "Date Shipped              0\n",
       "Item ID                   0\n",
       "Qty Ordered               0\n",
       "Line Status               0\n",
       "Order Date                0\n",
       "Due Date                  0\n",
       "Customer ID               0\n",
       "Qty Shipped               0\n",
       "UM                        0\n",
       "Qty Returned              0\n",
       "Shipment ID               0\n",
       "Unit Price                0\n",
       "Total Price               0\n",
       "Qty Invoiced              0\n",
       "Ship Warehouse            0\n",
       "Ship To                   0\n",
       "Order Release Date    20665\n",
       "Ship Code                 1\n",
       "dtype: int64"
      ]
     },
     "execution_count": 41,
     "metadata": {},
     "output_type": "execute_result"
    }
   ],
   "source": [
    "df.isnull().sum()"
   ]
  },
  {
   "cell_type": "markdown",
   "metadata": {},
   "source": [
    "removing the column with null values"
   ]
  },
  {
   "cell_type": "code",
   "execution_count": 43,
   "metadata": {},
   "outputs": [],
   "source": [
    "df.drop(columns=[\"Order Release Date\"], inplace=True)"
   ]
  },
  {
   "cell_type": "markdown",
   "metadata": {},
   "source": [
    "checking the duplicate values"
   ]
  },
  {
   "cell_type": "code",
   "execution_count": 42,
   "metadata": {},
   "outputs": [
    {
     "data": {
      "text/plain": [
       "101"
      ]
     },
     "execution_count": 42,
     "metadata": {},
     "output_type": "execute_result"
    }
   ],
   "source": [
    "df.duplicated().sum()"
   ]
  },
  {
   "cell_type": "markdown",
   "metadata": {},
   "source": [
    "deleting the duplictate values"
   ]
  },
  {
   "cell_type": "code",
   "execution_count": 47,
   "metadata": {},
   "outputs": [],
   "source": [
    "df = df.drop_duplicates()"
   ]
  },
  {
   "cell_type": "code",
   "execution_count": 48,
   "metadata": {},
   "outputs": [
    {
     "data": {
      "text/plain": [
       "0"
      ]
     },
     "execution_count": 48,
     "metadata": {},
     "output_type": "execute_result"
    }
   ],
   "source": [
    "df.duplicated().sum()"
   ]
  },
  {
   "cell_type": "code",
   "execution_count": 52,
   "metadata": {},
   "outputs": [],
   "source": [
    "df[\"Ship Code\"].fillna('',inplace=True)"
   ]
  },
  {
   "cell_type": "code",
   "execution_count": 53,
   "metadata": {},
   "outputs": [
    {
     "data": {
      "text/plain": [
       "Order ID          0\n",
       "Order Line No     0\n",
       "Date Shipped      0\n",
       "Item ID           0\n",
       "Qty Ordered       0\n",
       "Line Status       0\n",
       "Order Date        0\n",
       "Due Date          0\n",
       "Customer ID       0\n",
       "Qty Shipped       0\n",
       "UM                0\n",
       "Qty Returned      0\n",
       "Shipment ID       0\n",
       "Unit Price        0\n",
       "Total Price       0\n",
       "Qty Invoiced      0\n",
       "Ship Warehouse    0\n",
       "Ship To           0\n",
       "Ship Code         0\n",
       "dtype: int64"
      ]
     },
     "execution_count": 53,
     "metadata": {},
     "output_type": "execute_result"
    }
   ],
   "source": [
    "df.isnull().sum()"
   ]
  },
  {
   "cell_type": "markdown",
   "metadata": {},
   "source": [
    "finding top 5 selling products"
   ]
  },
  {
   "cell_type": "code",
   "execution_count": 54,
   "metadata": {},
   "outputs": [
    {
     "name": "stdout",
     "output_type": "stream",
     "text": [
      "Item ID\n",
      "I0026    32142\n",
      "I0018    18395\n",
      "I0011    16394\n",
      "I0086    12027\n",
      "I0058    11427\n",
      "Name: Qty Ordered, dtype: int64\n"
     ]
    }
   ],
   "source": [
    "top_selling = (\n",
    "    df.groupby('Item ID')['Qty Ordered']).sum().sort_values(ascending=False).head()\n",
    "print(top_selling)"
   ]
  },
  {
   "cell_type": "markdown",
   "metadata": {},
   "source": [
    "top returning customers"
   ]
  },
  {
   "cell_type": "code",
   "execution_count": 55,
   "metadata": {},
   "outputs": [
    {
     "name": "stdout",
     "output_type": "stream",
     "text": [
      "Customer ID\n",
      "10154    1\n",
      "200      0\n",
      "13204    0\n",
      "13277    0\n",
      "13276    0\n",
      "Name: Qty Returned, dtype: int64\n"
     ]
    }
   ],
   "source": [
    "top_returning_customers = (\n",
    "    df.groupby(\"Customer ID\")[\"Qty Returned\"]).sum().sort_values(ascending=False).head()\n",
    "print(top_returning_customers)"
   ]
  },
  {
   "cell_type": "markdown",
   "metadata": {},
   "source": [
    "Visualization"
   ]
  },
  {
   "cell_type": "code",
   "execution_count": 56,
   "metadata": {},
   "outputs": [],
   "source": [
    "import matplotlib .pyplot as plt\n",
    "import seaborn as sns"
   ]
  },
  {
   "cell_type": "code",
   "execution_count": 57,
   "metadata": {},
   "outputs": [
    {
     "name": "stderr",
     "output_type": "stream",
     "text": [
      "C:\\Users\\M S I\\AppData\\Local\\Temp\\ipykernel_2256\\3189556807.py:2: FutureWarning: \n",
      "\n",
      "Passing `palette` without assigning `hue` is deprecated and will be removed in v0.14.0. Assign the `x` variable to `hue` and set `legend=False` for the same effect.\n",
      "\n",
      "  sns.barplot(x=top_selling.index, y=top_selling.values, palette=\"Blues_r\")\n"
     ]
    },
    {
     "data": {
      "image/png": "[encoded data removed]",
      "text/plain": [
       "<Figure size 800x500 with 1 Axes>"
      ]
     },
     "metadata": {},
     "output_type": "display_data"
    }
   ],
   "source": [
    "plt.figure(figsize=(8, 5))\n",
    "sns.barplot(x=top_selling.index, y=top_selling.values, palette=\"Blues_r\")\n",
    "plt.xlabel(\"Item ID\")\n",
    "plt.ylabel(\"Total Quantity Ordered\")\n",
    "plt.title(\"Top 5 Selling Products\")\n",
    "plt.show()"
   ]
  },
  {
   "cell_type": "code",
   "execution_count": 58,
   "metadata": {},
   "outputs": [
    {
     "name": "stderr",
     "output_type": "stream",
     "text": [
      "C:\\Users\\M S I\\AppData\\Local\\Temp\\ipykernel_2256\\3077959017.py:2: FutureWarning: \n",
      "\n",
      "Passing `palette` without assigning `hue` is deprecated and will be removed in v0.14.0. Assign the `x` variable to `hue` and set `legend=False` for the same effect.\n",
      "\n",
      "  sns.barplot(x=top_returning_customers.index, y=top_returning_customers.values, palette=\"Reds_d\")\n"
     ]
    },
    {
     "data": {
      "image/png": "[encoded data removed]",
      "text/plain": [
       "<Figure size 800x500 with 1 Axes>"
      ]
     },
     "metadata": {},
     "output_type": "display_data"
    }
   ],
   "source": [
    "plt.figure(figsize=(8, 5))\n",
    "sns.barplot(x=top_returning_customers.index, y=top_returning_customers.values, palette=\"Reds_d\")\n",
    "plt.xlabel(\"Customer ID\")\n",
    "plt.ylabel(\"Total Quantity Returned\")\n",
    "plt.title(\"Top 5 Customers with Highest Returns\")\n",
    "plt.show()"
   ]
  }
 ],
 "metadata": {
  "kernelspec": {
   "display_name": "Python 3",
   "language": "python",
   "name": "python3"
  },
  "language_info": {
   "codemirror_mode": {
    "name": "ipython",
    "version": 3
   },
   "file_extension": ".py",
   "mimetype": "text/x-python",
   "name": "python",
   "nbconvert_exporter": "python",
   "pygments_lexer": "ipython3",
   "version": "3.12.4"
  }
 },
 "nbformat": 4,
 "nbformat_minor": 2
}
